{
  "nbformat": 4,
  "nbformat_minor": 0,
  "metadata": {
    "colab": {
      "name": "Towards_Realtime_MOT_Vehicle_Tracking.ipynb",
      "provenance": [],
      "collapsed_sections": [],
      "toc_visible": true,
      "include_colab_link": true
    },
    "kernelspec": {
      "name": "python3",
      "display_name": "Python 3"
    },
    "accelerator": "GPU"
  },
  "cells": [
    {
      "cell_type": "markdown",
      "metadata": {
        "id": "view-in-github",
        "colab_type": "text"
      },
      "source": [
        "<a href=\"https://colab.research.google.com/github/hardik0/AI-basketball-analysis-on-google-colab/blob/master/Towards-Realtime-MOT-Vehicle-Tracking.ipynb\" target=\"_parent\"><img src=\"https://colab.research.google.com/assets/colab-badge.svg\" alt=\"Open In Colab\"/></a>"
      ]
    },
    {
      "cell_type": "markdown",
      "metadata": {
        "id": "UaFgmAfi0FPS"
      },
      "source": [
        "# Towards Realtime MOT - Vehicle Tracking\n",
        "Joint Detection and Embedding (JDE) model. JDE is a fast and high-performance multiple-object tracker that learns the object detection task and appearance embedding task simutaneously in a shared neural network. Techical details are described in [ECCV 2020 paper](https://arxiv.org/pdf/1909.12605v1.pdf). \n",
        "\n",
        "**Original code (Pedestrian):** [Towards-Realtime-MOT](https://github.com/Zhongdao/Towards-Realtime-MOT) by [@ZhongdaoWang](https://github.com/Zhongdao)\n",
        "\n",
        "**[Modified version] Vehicle tracking code (UA-DETRAC):** [Towards-Realtime-MOT:detrac](https://github.com/hardik0/Towards-Realtime-MOT/tree/detrac)\n",
        "\n",
        "### Citation\n",
        "```\n",
        "@article{wang2019towards,\n",
        "  title={Towards Real-Time Multi-Object Tracking},\n",
        "  author={Wang, Zhongdao and Zheng, Liang and Liu, Yixuan and Wang, Shengjin},\n",
        "  journal={arXiv preprint arXiv:1909.12605},\n",
        "  year={2019}\n",
        "}\n",
        "```"
      ]
    },
    {
      "cell_type": "code",
      "metadata": {
        "id": "k6BEOjSAJOyD"
      },
      "source": [
        "! nvidia-smi\n",
        "! /usr/local/cuda/bin/nvcc --version"
      ],
      "execution_count": null,
      "outputs": []
    },
    {
      "cell_type": "markdown",
      "metadata": {
        "id": "oBPmoyNt3cBd"
      },
      "source": [
        "To access Google Drive Folder and Files"
      ]
    },
    {
      "cell_type": "code",
      "metadata": {
        "id": "mR-YYiITJU1Y",
        "outputId": "8f2cd64b-8a01-4854-edb6-bb1819f8566e",
        "colab": {
          "base_uri": "https://localhost:8080/"
        }
      },
      "source": [
        "from google.colab import drive\n",
        "drive.mount('/content/gdrive')"
      ],
      "execution_count": null,
      "outputs": [
        {
          "output_type": "stream",
          "text": [
            "Mounted at /content/gdrive\n"
          ],
          "name": "stdout"
        }
      ]
    },
    {
      "cell_type": "markdown",
      "metadata": {
        "id": "wd9BMrhy3iXL"
      },
      "source": [
        "## Installation\n",
        "clone this repository"
      ]
    },
    {
      "cell_type": "code",
      "metadata": {
        "id": "ncF66MRnKSye",
        "outputId": "c3787782-423f-4828-beba-b46ffef28008",
        "colab": {
          "base_uri": "https://localhost:8080/"
        }
      },
      "source": [
        "#! git clone https://github.com/hardik0/Towards-Realtime-MOT\n",
        "! git clone -b detrac https://github.com/hardik0/Towards-Realtime-MOT\n",
        "%cd Towards-Realtime-MOT"
      ],
      "execution_count": null,
      "outputs": [
        {
          "output_type": "stream",
          "text": [
            "Cloning into 'Towards-Realtime-MOT'...\n",
            "remote: Enumerating objects: 407, done.\u001b[K\n",
            "remote: Total 407 (delta 0), reused 0 (delta 0), pack-reused 407\u001b[K\n",
            "Receiving objects: 100% (407/407), 21.42 MiB | 50.41 MiB/s, done.\n",
            "Resolving deltas: 100% (246/246), done.\n",
            "/content/Towards-Realtime-MOT\n"
          ],
          "name": "stdout"
        }
      ]
    },
    {
      "cell_type": "markdown",
      "metadata": {
        "id": "KX3v5qi93val"
      },
      "source": [
        "check torch version"
      ]
    },
    {
      "cell_type": "code",
      "metadata": {
        "id": "1xxzjiQQOWjY",
        "outputId": "b19c73a7-221a-4001-ef30-696b249deeaa",
        "colab": {
          "base_uri": "https://localhost:8080/",
          "height": 35
        }
      },
      "source": [
        "import torch\n",
        "torch.__version__"
      ],
      "execution_count": null,
      "outputs": [
        {
          "output_type": "execute_result",
          "data": {
            "application/vnd.google.colaboratory.intrinsic+json": {
              "type": "string"
            },
            "text/plain": [
              "'1.7.0+cu101'"
            ]
          },
          "metadata": {
            "tags": []
          },
          "execution_count": 4
        }
      ]
    },
    {
      "cell_type": "markdown",
      "metadata": {
        "id": "K-MNsE9j3zQg"
      },
      "source": [
        "Downgrade the PyTorch version to 1.2"
      ]
    },
    {
      "cell_type": "code",
      "metadata": {
        "id": "zgMsawkwNquN"
      },
      "source": [
        "# uncomment below line ONLY if you run into any dependency issues while following\n",
        "#! pip install torch==1.2.0 torchvision==0.4.0"
      ],
      "execution_count": null,
      "outputs": []
    },
    {
      "cell_type": "code",
      "metadata": {
        "id": "Q4_HhHQcXOlt"
      },
      "source": [
        "import torch\n",
        "torch.__version__"
      ],
      "execution_count": null,
      "outputs": []
    },
    {
      "cell_type": "markdown",
      "metadata": {
        "id": "SoI_dzCS38NW"
      },
      "source": [
        "Install the Dependencies"
      ]
    },
    {
      "cell_type": "code",
      "metadata": {
        "id": "YEuhvGJ0KZIU"
      },
      "source": [
        "! pip install motmetrics cython_bbox ffmpeg lap pillow"
      ],
      "execution_count": null,
      "outputs": []
    },
    {
      "cell_type": "markdown",
      "metadata": {
        "id": "hOrr4qHe4DsY"
      },
      "source": [
        "restart the runtime if required"
      ]
    },
    {
      "cell_type": "code",
      "metadata": {
        "id": "fGwI9Ugi09tp",
        "outputId": "f2c11f9c-e57e-40ac-ed65-db641c2caa60",
        "colab": {
          "base_uri": "https://localhost:8080/",
          "height": 34
        }
      },
      "source": [
        "# change dir after restart\n",
        "%cd Towards-Realtime-MOT/"
      ],
      "execution_count": null,
      "outputs": [
        {
          "output_type": "stream",
          "text": [
            "/content/Towards-Realtime-MOT\n"
          ],
          "name": "stdout"
        }
      ]
    },
    {
      "cell_type": "markdown",
      "metadata": {
        "id": "RNJThXYm5Fo6"
      },
      "source": [
        "## Dataset preparation"
      ]
    },
    {
      "cell_type": "markdown",
      "metadata": {
        "id": "Ijbw1gMrSHxw"
      },
      "source": [
        "### Download DETRAC dataset"
      ]
    },
    {
      "cell_type": "code",
      "metadata": {
        "id": "y6KZeLt9ViDe"
      },
      "source": [
        "%%shell\n",
        "\n",
        "wget -O DETRAC-train-data.zip http://detrac-db.rit.albany.edu/Data/DETRAC-train-data.zip\n",
        "#wget -O DETRAC-test-data.zip http://detrac-db.rit.albany.edu/Data/DETRAC-test-data.zip\n",
        "wget -O DETRAC-Train-Annotations-XML.zip http://detrac-db.rit.albany.edu/Data/DETRAC-Train-Annotations-XML.zip\n",
        "mkdir data/MOT\n",
        "unzip -q DETRAC-train-data.zip -d data/\n",
        "#unzip -q DETRAC-test-data.zip -d data/\n",
        "unzip -q DETRAC-Train-Annotations-XML.zip -d data/\n",
        "#rm -r *.zip"
      ],
      "execution_count": null,
      "outputs": []
    },
    {
      "cell_type": "markdown",
      "metadata": {
        "id": "s1dmAhI35aHl"
      },
      "source": [
        "### Data Format\n",
        "All the datasets have the following structure:\n",
        "\n",
        "```\n",
        "Caltech\n",
        "   |——————images\n",
        "   |        └——————00001.jpg\n",
        "   |        |—————— ...\n",
        "   |        └——————0000N.jpg\n",
        "   └——————labels_with_ids\n",
        "            └——————00001.txt\n",
        "            |—————— ...\n",
        "            └——————0000N.txt\n",
        "```\n",
        "\n",
        "Every image has a corresponding annotation text. Given an image path, the annotation text path can be generated by replacing the string `images` with `labels_with_ids` and replacing `.jpg` with `.txt`.\n",
        "\n",
        "In the annotation text, each line is describing a bounding box and has the following format:\n",
        "\n",
        "`[class] [identity] [x_center] [y_center] [width] [height]`\n",
        "\n",
        "The field `[class]` should be `0`. Only single-class multi-object tracking is supported in this version.\n",
        "\n",
        "The field `[identity]` is an integer from `0` to `num_identities - 1`, or `-1` if this box has no identity annotation.\n",
        "\n",
        "***Note** that the values of `[x_center] [y_center] [width] [height]` are normalized by the width/height of the image, so they are floating point numbers ranging from 0 to 1."
      ]
    },
    {
      "cell_type": "markdown",
      "metadata": {
        "id": "bUeqoz2PWB4a"
      },
      "source": [
        "Script to convert DETRAC tracking dataset to MOT format"
      ]
    },
    {
      "cell_type": "code",
      "metadata": {
        "id": "-_TlOWAEjFhy"
      },
      "source": [
        "# will take about 25-30 minutes \n",
        "! python gen_labels_detrac.py > gen_labels_detrac.log 2>&1\n",
        "#! python gen_labels_detrac.py"
      ],
      "execution_count": null,
      "outputs": []
    },
    {
      "cell_type": "code",
      "metadata": {
        "id": "DMIfSrRCjLfS"
      },
      "source": [
        "! tail gen_labels_detrac.log"
      ],
      "execution_count": null,
      "outputs": []
    },
    {
      "cell_type": "code",
      "metadata": {
        "id": "lCmH8NNkHfKb",
        "outputId": "cd435ef1-8c35-473c-9285-afde517ce970",
        "colab": {
          "base_uri": "https://localhost:8080/",
          "height": 187
        }
      },
      "source": [
        "! head data/detrac.train"
      ],
      "execution_count": null,
      "outputs": [
        {
          "output_type": "stream",
          "text": [
            "DETRAC/images/train/MVI_20011/img1/img00001.jpg\n",
            "DETRAC/images/train/MVI_20011/img1/img00002.jpg\n",
            "DETRAC/images/train/MVI_20011/img1/img00003.jpg\n",
            "DETRAC/images/train/MVI_20011/img1/img00004.jpg\n",
            "DETRAC/images/train/MVI_20011/img1/img00005.jpg\n",
            "DETRAC/images/train/MVI_20011/img1/img00006.jpg\n",
            "DETRAC/images/train/MVI_20011/img1/img00007.jpg\n",
            "DETRAC/images/train/MVI_20011/img1/img00008.jpg\n",
            "DETRAC/images/train/MVI_20011/img1/img00009.jpg\n",
            "DETRAC/images/train/MVI_20011/img1/img00010.jpg\n"
          ],
          "name": "stdout"
        }
      ]
    },
    {
      "cell_type": "code",
      "metadata": {
        "id": "6mNpf8qPjOyY",
        "outputId": "ec3250a1-76fe-4524-8979-146ddc40d832",
        "colab": {
          "base_uri": "https://localhost:8080/",
          "height": 68
        }
      },
      "source": [
        "! du -shc data/MOT/DETRAC/*"
      ],
      "execution_count": null,
      "outputs": [
        {
          "output_type": "stream",
          "text": [
            "9.2G\tdata/MOT/DETRAC/images\n",
            "324M\tdata/MOT/DETRAC/labels_with_ids\n",
            "9.5G\ttotal\n"
          ],
          "name": "stdout"
        }
      ]
    },
    {
      "cell_type": "markdown",
      "metadata": {
        "id": "BLC4OZCV6zAg"
      },
      "source": [
        "Remove unnecessary files(optional)"
      ]
    },
    {
      "cell_type": "code",
      "metadata": {
        "id": "T8re5GhLjZDs"
      },
      "source": [
        "#%rm -r DETRAC-train-data.zip\n",
        "%rm -r data/Insight-MVT_Annotation_Train\n",
        "%rm -r data/DETRAC-Train-Annotations-XML"
      ],
      "execution_count": null,
      "outputs": []
    },
    {
      "cell_type": "markdown",
      "metadata": {
        "id": "N9L1OslX7LeY"
      },
      "source": [
        "zip processed dataset for further use"
      ]
    },
    {
      "cell_type": "code",
      "metadata": {
        "id": "rsfC5pfalXn_"
      },
      "source": [
        "%%shell\n",
        "\n",
        "cd data/MOT\n",
        "zip -qr DETRAC.zip DETRAC/"
      ],
      "execution_count": null,
      "outputs": []
    },
    {
      "cell_type": "markdown",
      "metadata": {
        "id": "-YGg5lIo7cCR"
      },
      "source": [
        "copy zip file to gdrive"
      ]
    },
    {
      "cell_type": "code",
      "metadata": {
        "id": "_7s4nwo1l4jN"
      },
      "source": [
        "! cp -r data/MOT/DETRAC.zip '../gdrive/My Drive/Colab Notebooks/MOT/'"
      ],
      "execution_count": null,
      "outputs": []
    },
    {
      "cell_type": "code",
      "metadata": {
        "id": "C53xzgIG9oxj"
      },
      "source": [
        "! ls '../gdrive/My Drive/Colab Notebooks/MOT/'"
      ],
      "execution_count": null,
      "outputs": []
    },
    {
      "cell_type": "markdown",
      "metadata": {
        "id": "isBhw8bz7w0d"
      },
      "source": [
        "copy dataset from google drive | using google_utils script "
      ]
    },
    {
      "cell_type": "code",
      "metadata": {
        "id": "Y7v6nivdqalx"
      },
      "source": [
        "! cp -r '../gdrive/My Drive/Colab Notebooks/MOT/DETRAC.zip' data/"
      ],
      "execution_count": null,
      "outputs": []
    },
    {
      "cell_type": "markdown",
      "metadata": {
        "id": "s4aLlBM18ig7"
      },
      "source": [
        "Share files from Google Drive check [this](https://support.google.com/drive/answer/2494822?co=GENIE.Platform%3DDesktop&hl=en) page & copy File ID"
      ]
    },
    {
      "cell_type": "code",
      "metadata": {
        "id": "QG0KrXNoG68e"
      },
      "source": [
        "! wget -O utils/google_utils.py https://raw.githubusercontent.com/hardik0/Multi-Object-Tracking-Google-Colab/main/utils/google_utils.py\n",
        "from utils.google_utils import *\n",
        "#gdrive_download(id='{google_drive_File_ID}', name='path_to/DETRAC.zip')\n",
        "gdrive_download(id='', name='data/DETRAC.zip')"
      ],
      "execution_count": null,
      "outputs": []
    },
    {
      "cell_type": "markdown",
      "metadata": {
        "id": "Y9e47jmi9kHv"
      },
      "source": [
        "unzip DETRAC.zip file to `data/MOT`"
      ]
    },
    {
      "cell_type": "code",
      "metadata": {
        "id": "yjmUnHfRqBG_"
      },
      "source": [
        "%%shell\n",
        "\n",
        "mkdir data/MOT\n",
        "cd data/MOT\n",
        "unzip -q ../DETRAC.zip\n",
        "rm -r ../DETRAC.zip"
      ],
      "execution_count": null,
      "outputs": []
    },
    {
      "cell_type": "code",
      "metadata": {
        "id": "GhlTQ98jwsoW"
      },
      "source": [
        "# uncomment below lines to train model with different resolutions\n",
        "#! rm -r  cfg/yolov3_detrac.cfg    # default yolov3_1088x608\n",
        "#! cp cfg/yolov3_1088x608.cfg cfg/yolov3_detrac.cfg"
      ],
      "execution_count": null,
      "outputs": []
    },
    {
      "cell_type": "markdown",
      "metadata": {
        "id": "a2atBAF0-eDg"
      },
      "source": [
        "`cfg/detrac.json` file is already created if you change/modify something then create again (optional)"
      ]
    },
    {
      "cell_type": "code",
      "metadata": {
        "id": "80qfNJjYBjob",
        "outputId": "83ee3feb-a3ca-4984-f2b8-b1f5a4a8f8fd",
        "colab": {
          "base_uri": "https://localhost:8080/",
          "height": 34
        }
      },
      "source": [
        "%rm -r cfg/detrac.json\n",
        "%%writefile cfg/detrac.json\n",
        "{\n",
        "    \"root\":\"/content/Towards-Realtime-MOT/data/MOT\",\n",
        "    \"train\":\n",
        "    {\n",
        "        \"detrac\":\"./data/detrac.train\"\n",
        "    },\n",
        "    \"test_emb\":\n",
        "    {\n",
        "        \"detrac\":\"./data/detrac.train\"\n",
        "    },\n",
        "    \"test\":\n",
        "    {\n",
        "        \"detrac\":\"./data/detrac.train\"\n",
        "    }\n",
        "}"
      ],
      "execution_count": null,
      "outputs": [
        {
          "output_type": "stream",
          "text": [
            "Writing cfg/detrac.json\n"
          ],
          "name": "stdout"
        }
      ]
    },
    {
      "cell_type": "markdown",
      "metadata": {
        "id": "LYDSQpTi_XYP"
      },
      "source": [
        "make directory on gdrive to save training model"
      ]
    },
    {
      "cell_type": "code",
      "metadata": {
        "id": "sQ6kUTLYwsoE"
      },
      "source": [
        "#%mkdir '../gdrive/My Drive/Colab Notebooks/MOT'\n",
        "%mkdir '../gdrive/My Drive/Colab Notebooks/MOT/Towards_Realtime_MOT'\n",
        "%ls '../gdrive/My Drive/Colab Notebooks/MOT/Towards_Realtime_MOT/'"
      ],
      "execution_count": null,
      "outputs": []
    },
    {
      "cell_type": "markdown",
      "metadata": {
        "id": "qRhZMNrRO5bv"
      },
      "source": [
        "Download Darknet-53 ImageNet pretrained model: [DarkNet Official](https://pjreddie.com/media/files/darknet53.conv.74) | or download from gdrive"
      ]
    },
    {
      "cell_type": "code",
      "metadata": {
        "id": "l05qOKbwxgbl"
      },
      "source": [
        "%mkdir weights\n",
        "! cp -r '../gdrive/My Drive/Colab Notebooks/MOT/darknet53.conv.74' weights/"
      ],
      "execution_count": null,
      "outputs": []
    },
    {
      "cell_type": "markdown",
      "metadata": {
        "id": "9RGNnfiMPhfy"
      },
      "source": [
        "## Start the Training"
      ]
    },
    {
      "cell_type": "code",
      "metadata": {
        "id": "EKMpC8Z_wspB"
      },
      "source": [
        "# training \n",
        "\n",
        "#! CUDA_VISIBLE_DEVICES=0 python train.py \n",
        "! CUDA_VISIBLE_DEVICES=0 python -m torch.distributed.launch train.py \\\n",
        "                                --cfg cfg/yolov3_detrac.cfg --data-cfg cfg/detrac.json \\\n",
        "                                --batch-size 6 --print-interval 1000 --save-model-after 2 \\\n",
        "                                --weights-to '../gdrive/My Drive/Colab Notebooks/MOT/Towards_Realtime_MOT/' \n",
        "                               # --resume --weights-from '../gdrive/My Drive/Colab Notebooks/MOT/Towards_Realtime_MOT/run12_10_09_15/'  "
      ],
      "execution_count": null,
      "outputs": []
    },
    {
      "cell_type": "code",
      "metadata": {
        "id": "P3XkoFq3PzII"
      },
      "source": [
        "%ls '../gdrive/My Drive/Colab Notebooks/MOT/Towards_Realtime_MOT/'"
      ],
      "execution_count": null,
      "outputs": []
    },
    {
      "cell_type": "markdown",
      "metadata": {
        "id": "YJRPjUkGPliZ"
      },
      "source": [
        " ### Resume training"
      ]
    },
    {
      "cell_type": "code",
      "metadata": {
        "id": "xDpa-7Dev447",
        "outputId": "71c02dd8-3f22-4880-b56a-5c76b8634513",
        "colab": {
          "base_uri": "https://localhost:8080/",
          "height": 641
        }
      },
      "source": [
        "# resume training \n",
        "\n",
        "#! CUDA_VISIBLE_DEVICES=0 python train.py \n",
        "! CUDA_VISIBLE_DEVICES=0 python -m torch.distributed.launch train.py \\\n",
        "                                --cfg cfg/yolov3.cfg --data-cfg cfg/detrac.json \\\n",
        "                                --batch-size 6 --print-interval 1000 --save-model-after 2 \\\n",
        "                                --weights-to '../gdrive/My Drive/Colab Notebooks/MOT/Towards_Realtime_MOT/' \\\n",
        "                                --resume --weights-from '../gdrive/My Drive/Colab Notebooks/MOT/Towards_Realtime_MOT/run12_10_09_15/' "
      ],
      "execution_count": null,
      "outputs": [
        {
          "output_type": "stream",
          "text": [
            "================================================================================\n",
            "dataset summary\n",
            "OrderedDict([('detrac', 5984.0)])\n",
            "total # identities: 5985\n",
            "start index\n",
            "OrderedDict([('detrac', 0)])\n",
            "================================================================================\n",
            "2020-10-14 06:22:35 [INFO]:    Epoch       Batch       box      conf        id     total  nTargets      time\n",
            "2020-10-14 06:22:44 [INFO]:     2/29     0/13679     0.634    0.0464      11.7     -4.17        66      9.45\n",
            "2020-10-14 06:44:06 [INFO]:     2/29  1000/13679     0.927     0.027      17.9     -5.13      42.5     0.656\n",
            "2020-10-14 07:05:37 [INFO]:     2/29  2000/13679      0.65    0.0262      17.9     -4.52      42.4     0.654\n",
            "2020-10-14 07:27:10 [INFO]:     2/29  3000/13679     0.649     0.026      17.9     -4.41      42.4     0.656\n",
            "2020-10-14 07:48:47 [INFO]:     2/29  4000/13679     0.563    0.0254      17.9     -1.62      42.4     0.664\n",
            "2020-10-14 08:10:26 [INFO]:     2/29  5000/13679     0.489    0.0249      17.8        -2      42.3     0.664\n",
            "2020-10-14 08:32:07 [INFO]:     2/29  6000/13679     0.648    0.0247      17.7     -2.03      42.4     0.669\n",
            "2020-10-14 08:53:47 [INFO]:     2/29  7000/13679      0.72    0.0243      17.6     -1.99      42.4      0.68\n",
            "2020-10-14 09:15:29 [INFO]:     2/29  8000/13679     0.636    0.0239      17.6     -2.68      42.4      0.67\n",
            "2020-10-14 09:37:11 [INFO]:     2/29  9000/13679     0.573    0.0241      17.6     -3.13      42.3     0.689\n",
            "2020-10-14 09:58:50 [INFO]:     2/29 10000/13679     0.519    0.0239      17.5     -3.58      42.4     0.667\n",
            "2020-10-14 10:20:32 [INFO]:     2/29 11000/13679     0.506    0.0238      17.5     -3.82      42.4     0.678\n",
            "2020-10-14 10:42:15 [INFO]:     2/29 12000/13679     0.526    0.0238      17.4    -0.533      42.4     0.676\n",
            "2020-10-14 11:03:59 [INFO]:     2/29 13000/13679      0.54    0.0234      17.4     0.282      42.4     0.664\n",
            "2020-10-14 11:18:48 [INFO]:    Epoch       Batch       box      conf        id     total  nTargets      time\n",
            "2020-10-14 11:18:54 [INFO]:     3/29     0/13679     0.173    0.0246      10.1     -6.26        70      9.75\n",
            "2020-10-14 11:40:38 [INFO]:     3/29  1000/13679     0.227    0.0214      16.7      13.9      42.4     0.669\n",
            "2020-10-14 12:02:21 [INFO]:     3/29  2000/13679     0.169    0.0211      16.5       5.9      42.5     0.679\n",
            "2020-10-14 12:24:06 [INFO]:     3/29  3000/13679     0.385    0.0234      16.8      3.46      42.5     0.677\n",
            "2020-10-14 12:45:50 [INFO]:     3/29  4000/13679     0.347    0.0243      16.9      1.72      42.6     0.688\n",
            "2020-10-14 13:07:34 [INFO]:     3/29  5000/13679     0.373    0.0241      16.9      2.28      42.6     0.666\n",
            "2020-10-14 13:29:16 [INFO]:     3/29  6000/13679     0.325    0.0246      16.9      6.58      42.6     0.676\n",
            "2020-10-14 13:50:58 [INFO]:     3/29  7000/13679     0.293    0.0248      16.9      6.04      42.4     0.683\n",
            "2020-10-14 14:12:41 [INFO]:     3/29  8000/13679     0.262    0.0245      16.8      4.39      42.5      0.68\n",
            "2020-10-14 14:34:22 [INFO]:     3/29  9000/13679     0.265    0.0242      16.7      4.05      42.6      0.67\n",
            "2020-10-14 14:56:02 [INFO]:     3/29 10000/13679     0.254    0.0237      16.7      3.09      42.5     0.657\n",
            "2020-10-14 15:17:41 [INFO]:     3/29 11000/13679     0.233    0.0232      16.6      2.03      42.5     0.685\n"
          ],
          "name": "stdout"
        }
      ]
    },
    {
      "cell_type": "code",
      "metadata": {
        "id": "OzToKqJvX7Ae",
        "outputId": "1ac8a9b9-f923-4eb4-ce8f-f5a7ed5ea7e7",
        "colab": {
          "base_uri": "https://localhost:8080/",
          "height": 34
        }
      },
      "source": [
        "%ls '../gdrive/My Drive/Colab Notebooks/MOT/Towards_Realtime_MOT/run14_10_06_21/'"
      ],
      "execution_count": null,
      "outputs": [
        {
          "output_type": "stream",
          "text": [
            "\u001b[0m\u001b[01;34mcfg\u001b[0m/  latest.pt  weights_epoch_2.pt\n"
          ],
          "name": "stdout"
        }
      ]
    },
    {
      "cell_type": "markdown",
      "metadata": {
        "id": "p4Kpw4s1RzTH"
      },
      "source": [
        "copy weight file from gdrive to `model/` directory"
      ]
    },
    {
      "cell_type": "code",
      "metadata": {
        "id": "0CysoMJpYKh2"
      },
      "source": [
        "%mkdir models\n",
        "%cp -r '../gdrive/My Drive/Colab Notebooks/MOT/Towards_Realtime_MOT/run14_10_06_21/latest.pt' models/"
      ],
      "execution_count": null,
      "outputs": []
    },
    {
      "cell_type": "markdown",
      "metadata": {
        "id": "-wlB3J9NRTEJ"
      },
      "source": [
        "## Inference"
      ]
    },
    {
      "cell_type": "markdown",
      "metadata": {
        "id": "fZmaRk51SZkJ"
      },
      "source": [
        "### Download video from Youtube | Copy video from Google Drive"
      ]
    },
    {
      "cell_type": "code",
      "metadata": {
        "id": "r4qe_E8lXpqR",
        "outputId": "c4c6ef72-e775-41e5-9889-122ca95cbca6",
        "colab": {
          "base_uri": "https://localhost:8080/",
          "height": 426
        }
      },
      "source": [
        "!pip install youtube-dl\n",
        "from IPython.display import YouTubeVideo\n",
        "\n",
        "YOUTUBE_ID = 'jjlBnrzSGjc'\n",
        "\n",
        "YouTubeVideo(YOUTUBE_ID)"
      ],
      "execution_count": null,
      "outputs": [
        {
          "output_type": "stream",
          "text": [
            "Collecting youtube-dl\n",
            "\u001b[?25l  Downloading https://files.pythonhosted.org/packages/70/b4/c83b577bfb1be7c88dff10eecd70650eca7729b25135345108ea676e6f3b/youtube_dl-2020.9.20-py2.py3-none-any.whl (1.8MB)\n",
            "\u001b[K     |████████████████████████████████| 1.8MB 6.5MB/s \n",
            "\u001b[?25hInstalling collected packages: youtube-dl\n",
            "Successfully installed youtube-dl-2020.9.20\n"
          ],
          "name": "stdout"
        },
        {
          "output_type": "execute_result",
          "data": {
            "text/html": [
              "\n",
              "        <iframe\n",
              "            width=\"400\"\n",
              "            height=\"300\"\n",
              "            src=\"https://www.youtube.com/embed/jjlBnrzSGjc\"\n",
              "            frameborder=\"0\"\n",
              "            allowfullscreen\n",
              "        ></iframe>\n",
              "        "
            ],
            "text/plain": [
              "<IPython.lib.display.YouTubeVideo at 0x7fe68e848518>"
            ],
            "image/jpeg": "[encoded data removed]"
          },
          "metadata": {
            "tags": []
          },
          "execution_count": 4
        }
      ]
    },
    {
      "cell_type": "code",
      "metadata": {
        "id": "gY0cUVGZY5M9"
      },
      "source": [
        "#!rm -rf youtube.mp4\n",
        "# download the youtube with the given ID\n",
        "! youtube-dl -f 22 --output \"youtube.%(ext)s\" https://www.youtube.com/watch?v=$YOUTUBE_ID\n",
        "#!youtube-dl -f 'bestvideo[ext=mp4]' --output \"youtube.%(ext)s\" https://www.youtube.com/watch?v=$YOUTUBE_ID\n",
        "\n",
        "# cut the first 30 seconds\n",
        "! ffmpeg -y -loglevel info -i youtube.mp4 -t 30 car.mp4"
      ],
      "execution_count": null,
      "outputs": []
    },
    {
      "cell_type": "markdown",
      "metadata": {
        "id": "bI3pHhxvS6fd"
      },
      "source": [
        "### Run the demo"
      ]
    },
    {
      "cell_type": "code",
      "metadata": {
        "id": "VnSj-VHbKw1z"
      },
      "source": [
        "# line 163 - nID=5985 (if you get any nID error modify 163 line from file browser)\n",
        "! python demo.py --input-video car.mp4 --weights models/latest.pt --cfg cfg/yolov3_detrac.cfg --output-format video --output-root outputs/detrac_car_tracking"
      ],
      "execution_count": null,
      "outputs": []
    },
    {
      "cell_type": "code",
      "metadata": {
        "id": "g_gbNjQPiXHu",
        "outputId": "862da2d1-d225-469d-fc8a-90206359fe69",
        "colab": {
          "base_uri": "https://localhost:8080/",
          "height": 34
        }
      },
      "source": [
        "%ls outputs/detrac_car_tracking/"
      ],
      "execution_count": null,
      "outputs": [
        {
          "output_type": "stream",
          "text": [
            "\u001b[0m\u001b[01;34mframe\u001b[0m/  result.avi  result.mp4  results.txt\n"
          ],
          "name": "stdout"
        }
      ]
    },
    {
      "cell_type": "markdown",
      "metadata": {
        "id": "Hz7-JlCtTYLv"
      },
      "source": [
        "rename result.mp4 file (optional)"
      ]
    },
    {
      "cell_type": "code",
      "metadata": {
        "id": "WnQfCxrZmCJc"
      },
      "source": [
        "%mv outputs/detrac_car_tracking/result.mp4 outputs/detrac_car_tracking/detrac_car.mp4 "
      ],
      "execution_count": null,
      "outputs": []
    },
    {
      "cell_type": "markdown",
      "metadata": {
        "id": "lJz8wq7GTcko"
      },
      "source": [
        "Reduce video size (optional)"
      ]
    },
    {
      "cell_type": "code",
      "metadata": {
        "id": "YtlrDasLTdZp"
      },
      "source": [
        "! ffmpeg -y -loglevel panic -i outputs/detrac_car_tracking/detrac_car.mp4 outputs/detrac_car_tracking/detrac_car_tracking_jde_1088X608_result.mp4"
      ],
      "execution_count": null,
      "outputs": []
    },
    {
      "cell_type": "markdown",
      "metadata": {
        "id": "eCXCSJ3tT0MB"
      },
      "source": [
        "Copy video to google drive | download video from file browser (optional)"
      ]
    },
    {
      "cell_type": "code",
      "metadata": {
        "id": "2k6g_dpVl6sS"
      },
      "source": [
        "%cp -r outputs/detrac_car_tracking/detrac_car_tracking_jde_1088X608_result.mp4 '../gdrive/My Drive/Colab Notebooks/MOT/'"
      ],
      "execution_count": null,
      "outputs": []
    },
    {
      "cell_type": "markdown",
      "metadata": {
        "id": "eiu6mlDrT8eR"
      },
      "source": [
        "Playing videos on google colab"
      ]
    },
    {
      "cell_type": "code",
      "metadata": {
        "id": "x7pAf9RRkIEU"
      },
      "source": [
        "# define helper function to display videos\n",
        "import io \n",
        "from IPython.display import HTML\n",
        "from base64 import b64encode\n",
        "def show_video(file_name, width=640):\n",
        "  # show resulting deepsort video\n",
        "  mp4 = open(file_name,'rb').read()\n",
        "  data_url = \"data:video/mp4;base64,\" + b64encode(mp4).decode()\n",
        "  return HTML(\"\"\"\n",
        "  <video width=\"{0}\" controls>\n",
        "        <source src=\"{1}\" type=\"video/mp4\">\n",
        "  </video>\n",
        "  \"\"\".format(width, data_url))"
      ],
      "execution_count": null,
      "outputs": []
    }
  ]
}