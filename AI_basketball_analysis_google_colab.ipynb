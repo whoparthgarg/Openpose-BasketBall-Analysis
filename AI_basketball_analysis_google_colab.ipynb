{
  "nbformat": 4,
  "nbformat_minor": 0,
  "metadata": {
    "colab": {
      "name": "AI-basketball-analysis-google-colab.ipynb",
      "provenance": [],
      "collapsed_sections": [],
      "toc_visible": true,
      "authorship_tag": "ABX9TyM8QFrkPcMyb8XVeaGPFXZE",
      "include_colab_link": true
    },
    "kernelspec": {
      "name": "python3",
      "display_name": "Python 3"
    },
    "accelerator": "GPU"
  },
  "cells": [
    {
      "cell_type": "markdown",
      "metadata": {
        "id": "view-in-github",
        "colab_type": "text"
      },
      "source": [
        "<a href=\"https://colab.research.google.com/github/hardik0/AI-basketball-analysis-on-google-colab/blob/master/AI_basketball_analysis_google_colab.ipynb\" target=\"_parent\"><img src=\"https://colab.research.google.com/assets/colab-badge.svg\" alt=\"Open In Colab\"/></a>"
      ]
    },
    {
      "cell_type": "markdown",
      "metadata": {
        "id": "7pd8g8H84QgQ",
        "colab_type": "text"
      },
      "source": [
        "# AI basketball analysis\n",
        "<img class=\"emoji\" alt=\"basketabll\" height=\"300\" width=\"700\" src=\"https://raw.githubusercontent.com/hardik0/AI-basketball-analysis-on-google-colab/master/static/img/analysis.gif\">\n",
        "\n",
        "<img class=\"emoji\" alt=\"basketabll\" height=\"20\" width=\"20\" src=\"https://github.githubassets.com/images/icons/emoji/unicode/1f3c0.png\"> **Analyze basketball shots and shooting pose with machine learning!**\n",
        "\n",
        "This is an artificial intelligence application built on the concept of object detection. Analyze basketball shots by digging into the data collected from object detection. We can get the result by simply uploading files to the web App, or submitting a POST request to the API.\n",
        "\n",
        "**Credits:**\n",
        "\n",
        "Special thanks to:\n",
        "\n",
        "**Tony Chou** for this amazing github repo **[AI-basketball-analysis](https://github.com/chonyy/AI-basketball-analysis)**\n",
        "\n",
        "**CMU Perceptual Computing Lab** for **[OpenPose](https://github.com/CMU-Perceptual-Computing-Lab/openpose)**"
      ]
    },
    {
      "cell_type": "code",
      "metadata": {
        "id": "KAfXDCLsfKYk",
        "colab_type": "code",
        "colab": {
          "base_uri": "https://localhost:8080/",
          "height": 425
        },
        "outputId": "8d5459fa-b44a-40a8-9962-94bc43a445c5"
      },
      "source": [
        "# First, change the runtime type to \"GPU\".\n",
        "# Confirm runtime to GPU\n",
        "! nvcc --version\n",
        "! nvidia-smi"
      ],
      "execution_count": null,
      "outputs": [
        {
          "output_type": "stream",
          "text": [
            "nvcc: NVIDIA (R) Cuda compiler driver\n",
            "Copyright (c) 2005-2019 NVIDIA Corporation\n",
            "Built on Sun_Jul_28_19:07:16_PDT_2019\n",
            "Cuda compilation tools, release 10.1, V10.1.243\n",
            "Thu Jun 18 16:30:19 2020       \n",
            "+-----------------------------------------------------------------------------+\n",
            "| NVIDIA-SMI 450.36.06    Driver Version: 418.67       CUDA Version: 10.1     |\n",
            "|-------------------------------+----------------------+----------------------+\n",
            "| GPU  Name        Persistence-M| Bus-Id        Disp.A | Volatile Uncorr. ECC |\n",
            "| Fan  Temp  Perf  Pwr:Usage/Cap|         Memory-Usage | GPU-Util  Compute M. |\n",
            "|                               |                      |               MIG M. |\n",
            "|===============================+======================+======================|\n",
            "|   0  Tesla T4            Off  | 00000000:00:04.0 Off |                    0 |\n",
            "| N/A   64C    P8    12W /  70W |      0MiB / 15079MiB |      0%      Default |\n",
            "|                               |                      |                 ERR! |\n",
            "+-------------------------------+----------------------+----------------------+\n",
            "                                                                               \n",
            "+-----------------------------------------------------------------------------+\n",
            "| Processes:                                                                  |\n",
            "|  GPU   GI   CI        PID   Type   Process name                  GPU Memory |\n",
            "|        ID   ID                                                   Usage      |\n",
            "|=============================================================================|\n",
            "|  No running processes found                                                 |\n",
            "+-----------------------------------------------------------------------------+\n"
          ],
          "name": "stdout"
        }
      ]
    },
    {
      "cell_type": "code",
      "metadata": {
        "id": "EqoSRz7F3Tnh",
        "colab_type": "code",
        "colab": {
          "base_uri": "https://localhost:8080/",
          "height": 68
        },
        "outputId": "1df3f43f-515d-44f7-b5f1-b0b8695cfebc"
      },
      "source": [
        "# Openpose version tag\n",
        "#ver_openpose = \"v1.6.0\"\n",
        "# If CMake is old, Openpose build fails, so download the latest version\n",
        "! cmake --version"
      ],
      "execution_count": null,
      "outputs": [
        {
          "output_type": "stream",
          "text": [
            "cmake version 3.12.0\n",
            "\n",
            "CMake suite maintained and supported by Kitware (kitware.com/cmake).\n"
          ],
          "name": "stdout"
        }
      ]
    },
    {
      "cell_type": "code",
      "metadata": {
        "id": "0MlwNgTK3zqU",
        "colab_type": "code",
        "colab": {}
      },
      "source": [
        "#Jun 18, 2020 - Rebuild the latest CMake at that time (about 15 minutes)\n",
        "! wget -c \"https://github.com/Kitware/CMake/releases/download/v3.17.3/cmake-3.17.3.tar.gz\"\n",
        "! tar xf cmake-3.17.3.tar.gz\n",
        "! cd cmake-3.17.3 && ./configure && make && sudo make install"
      ],
      "execution_count": null,
      "outputs": []
    },
    {
      "cell_type": "markdown",
      "metadata": {
        "id": "Pf49WuDq6BNu",
        "colab_type": "text"
      },
      "source": [
        "# Pose Detection with OpenPose\n",
        "\n",
        "This notebook uses an open source project [CMU-Perceptual-Computing-Lab/openpose](https://github.com/CMU-Perceptual-Computing-Lab/openpose.git) to detect/track multi person poses on a given youtube video."
      ]
    },
    {
      "cell_type": "markdown",
      "metadata": {
        "id": "6XsfLDkm6V3l",
        "colab_type": "text"
      },
      "source": [
        "## Install OpenPose\n"
      ]
    },
    {
      "cell_type": "code",
      "metadata": {
        "id": "QLAoMXYm3_Gy",
        "colab_type": "code",
        "colab": {}
      },
      "source": [
        "# Install library\n",
        "\n",
        "# Basic\n",
        "! sudo apt-get --assume-yes update\n",
        "! sudo apt-get --assume-yes install build-essential\n",
        "# OpenCV\n",
        "! sudo apt-get --assume-yes install libopencv-dev\n",
        "# General dependencies\n",
        "! sudo apt-get --assume-yes install libatlas-base-dev libprotobuf-dev libleveldb-dev libsnappy-dev libhdf5-serial-dev protobuf-compiler\n",
        "! sudo apt-get --assume-yes install --no-install-recommends libboost-all-dev\n",
        "# Remaining dependencies, 14.04\n",
        "! sudo apt-get --assume-yes install libgflags-dev libgoogle-glog-dev liblmdb-dev\n",
        "# Python3 libs\n",
        "! sudo apt-get --assume-yes install python3-setuptools python3-dev build-essential\n",
        "! sudo apt-get --assume-yes install python3-pip\n",
        "! sudo -H pip3 install --upgrade numpy protobuf opencv-python\n",
        "# OpenCL Generic\n",
        "! sudo apt-get --assume-yes install opencl-headers ocl-icd-opencl-dev\n",
        "! sudo apt-get --assume-yes install libviennacl-dev"
      ],
      "execution_count": null,
      "outputs": []
    },
    {
      "cell_type": "code",
      "metadata": {
        "id": "34-A_3704E8j",
        "colab_type": "code",
        "colab": {}
      },
      "source": [
        "# Clone Openpose\n",
        "#! git clone  --depth 1 -b \"$ver_openpose\" https://github.com/CMU-Perceptual-Computing-Lab/openpose.git\n",
        "! git clone https://github.com/CMU-Perceptual-Computing-Lab/openpose.git\n",
        "! cd openpose && mkdir build && cd build"
      ],
      "execution_count": null,
      "outputs": []
    },
    {
      "cell_type": "code",
      "metadata": {
        "id": "8Td588n5PhY2",
        "colab_type": "code",
        "colab": {}
      },
      "source": [
        "#%rm -r openpose/build"
      ],
      "execution_count": null,
      "outputs": []
    },
    {
      "cell_type": "code",
      "metadata": {
        "id": "0cIZ9-mh4JPL",
        "colab_type": "code",
        "colab": {}
      },
      "source": [
        "# https://github.com/CMU-Perceptual-Computing-Lab/openpose/blob/master/doc/installation.md#cmake-command-line-configuration-ubuntu-only\n",
        "# Scenario 1 - Caffe not installed and OpenCV installed using apt-get\n",
        "! cd openpose/build && cmake -DBUILD_PYTHON=ON .. \n",
        "\n",
        "# If you want to download the COCO model as well, execute the following command. (Please change \"# ! cd\" part to \"! cd\".)\n",
        "# ! cd openpose/build && cmake .. -D DOWNLOAD_BODY_COCO_MODEL=ON\n",
        "\n",
        "# If you want to download the MPI model as well, execute the following command.\n",
        "# ! cd openpose/build && cmake .. -D DOWNLOAD_BODY_MPI_MODEL=ON"
      ],
      "execution_count": null,
      "outputs": []
    },
    {
      "cell_type": "code",
      "metadata": {
        "id": "APjFo_sg4reN",
        "colab_type": "code",
        "colab": {}
      },
      "source": [
        "# Openpose Building\n",
        "! cd openpose/build && make -j`nproc`"
      ],
      "execution_count": null,
      "outputs": []
    },
    {
      "cell_type": "code",
      "metadata": {
        "id": "a10IyfajQ0bN",
        "colab_type": "code",
        "colab": {}
      },
      "source": [
        "# Openpose Installing\n",
        "! cd openpose/build && make install"
      ],
      "execution_count": null,
      "outputs": []
    },
    {
      "cell_type": "code",
      "metadata": {
        "id": "PBomm9C4yqFY",
        "colab_type": "code",
        "colab": {}
      },
      "source": [
        "! echo \"include /usr/local/lib\" >> /etc/ld.so.conf\n",
        "! ldconfig "
      ],
      "execution_count": null,
      "outputs": []
    },
    {
      "cell_type": "code",
      "metadata": {
        "id": "AgSmcSfKfQCr",
        "colab_type": "code",
        "colab": {
          "base_uri": "https://localhost:8080/",
          "height": 34
        },
        "outputId": "279f2cbd-72e8-4d4a-ffbb-20470479f511"
      },
      "source": [
        "%ls /usr/local/python"
      ],
      "execution_count": null,
      "outputs": [
        {
          "output_type": "stream",
          "text": [
            "\u001b[0m\u001b[01;34mopenpose\u001b[0m/  pyopenpose.cpython-36m-x86_64-linux-gnu.so\n"
          ],
          "name": "stdout"
        }
      ]
    },
    {
      "cell_type": "code",
      "metadata": {
        "id": "ED-JZ-tJ4uOL",
        "colab_type": "code",
        "colab": {
          "base_uri": "https://localhost:8080/",
          "height": 102
        },
        "outputId": "5539da70-916b-4b53-97c6-039cd15192d5"
      },
      "source": [
        "# Run and check the sample\n",
        "# The output analysis result is placed under \"openpose/output\" from the folder icon on the left menu of the Colab screen.\n",
        "! cd openpose && mkdir output && ./build/examples/openpose/openpose.bin --video examples/media/video.avi --display 0  --write_video ./output/openpose.avi"
      ],
      "execution_count": null,
      "outputs": [
        {
          "output_type": "stream",
          "text": [
            "Starting OpenPose demo...\n",
            "Configuring OpenPose...\n",
            "Starting thread(s)...\n",
            "Auto-detecting all available GPUs... Detected 1 GPU(s), using 1 of them starting at GPU 0.\n",
            "OpenPose demo successfully finished. Total time: 22.909636 seconds.\n"
          ],
          "name": "stdout"
        }
      ]
    },
    {
      "cell_type": "markdown",
      "metadata": {
        "id": "8QSThD6-5sc8",
        "colab_type": "text"
      },
      "source": [
        "## Detect poses on a test video\n",
        "\n",
        "We are going to detect poses on the following youtube video:"
      ]
    },
    {
      "cell_type": "code",
      "metadata": {
        "id": "3VzukrqfLUFB",
        "colab_type": "code",
        "colab": {}
      },
      "source": [
        "!pip install youtube-dl"
      ],
      "execution_count": null,
      "outputs": []
    },
    {
      "cell_type": "code",
      "metadata": {
        "id": "ThBKmN2I41Bo",
        "colab_type": "code",
        "colab": {}
      },
      "source": [
        "from IPython.display import YouTubeVideo\n",
        "\n",
        "YOUTUBE_ID = 'RXABo9hm8B8'\n",
        "\n",
        "YouTubeVideo(YOUTUBE_ID)"
      ],
      "execution_count": null,
      "outputs": []
    },
    {
      "cell_type": "markdown",
      "metadata": {
        "id": "pdKtga485nhv",
        "colab_type": "text"
      },
      "source": [
        "Download the above youtube video, cut the first 5 seconds and do the pose detection on that 5 seconds:"
      ]
    },
    {
      "cell_type": "code",
      "metadata": {
        "id": "9CAPrsut5fDw",
        "colab_type": "code",
        "colab": {}
      },
      "source": [
        "!rm -rf youtube.mp4\n",
        "# download the youtube with the given ID\n",
        "!youtube-dl -f 'bestvideo[ext=mp4]' --output \"youtube.%(ext)s\" https://www.youtube.com/watch?v=$YOUTUBE_ID\n",
        "# cut the first 5 seconds\n",
        "!ffmpeg -y -loglevel info -i youtube.mp4 -t 5 video.mp4\n",
        "# detect poses on the these 5 seconds\n",
        "!rm openpose.avi\n",
        "!cd openpose && ./build/examples/openpose/openpose.bin --video ../video.mp4 --write_json ./output/ --display 0  --write_video ../openpose.avi\n",
        "# convert the result into MP4\n",
        "!ffmpeg -y -loglevel info -i openpose.avi output.mp4"
      ],
      "execution_count": null,
      "outputs": []
    },
    {
      "cell_type": "markdown",
      "metadata": {
        "id": "8ZZjSWwh5j_W",
        "colab_type": "text"
      },
      "source": [
        "Finally, visualize the result:"
      ]
    },
    {
      "cell_type": "code",
      "metadata": {
        "id": "DlWbXY-75hGG",
        "colab_type": "code",
        "colab": {
          "base_uri": "https://localhost:8080/",
          "height": 761
        },
        "outputId": "ccc66ae2-ab0c-448e-86e5-7cc918872c9d"
      },
      "source": [
        "def show_local_mp4_video(file_name, width=640, height=480):\n",
        "  import io\n",
        "  import base64\n",
        "  from IPython.display import HTML\n",
        "  video_encoded = base64.b64encode(io.open(file_name, 'rb').read())\n",
        "  return HTML(data='''<video width=\"{0}\" height=\"{1}\" alt=\"test\" controls>\n",
        "                        <source src=\"data:video/mp4;base64,{2}\" type=\"video/mp4\" />\n",
        "                      </video>'''.format(width, height, video_encoded.decode('ascii')))\n",
        "\n",
        "show_local_mp4_video('output.mp4', width=960, height=720)"
      ],
      "execution_count": null,
      "outputs": []
    },
    {
      "cell_type": "markdown",
      "metadata": {
        "id": "_E2uPWbn7mUf",
        "colab_type": "text"
      },
      "source": [
        "# <img class=\"emoji\" alt=\"basketabll\" height=\"20\" width=\"20\" src=\"https://github.githubassets.com/images/icons/emoji/unicode/1f3c0.png\"> Analyze basketball shots and shooting pose with machine learning!"
      ]
    },
    {
      "cell_type": "markdown",
      "metadata": {
        "id": "bQjd-0988uVt",
        "colab_type": "text"
      },
      "source": [
        "## Get a copy\n",
        "Get a copy of this project by simply running the git clone command."
      ]
    },
    {
      "cell_type": "code",
      "metadata": {
        "id": "RNNBUmCDfXeo",
        "colab_type": "code",
        "colab": {
          "base_uri": "https://localhost:8080/",
          "height": 170
        },
        "outputId": "021b5d15-7376-4de0-8e19-f39ac41eba14"
      },
      "source": [
        "# Original repository\n",
        "#! git clone https://github.com/chonyy/AI-basketball-analysis.git\n",
        "\n",
        "# Modified version \n",
        "! git clone https://github.com/hardik0/AI-basketball-analysis-on-google-colab\n",
        "%cd AI-basketball-analysis-on-google-colab"
      ],
      "execution_count": null,
      "outputs": [
        {
          "output_type": "stream",
          "text": [
            "Cloning into 'AI-basketball-analysis-on-google-colab'...\n",
            "remote: Enumerating objects: 203, done.\u001b[K\n",
            "remote: Counting objects: 100% (203/203), done.\u001b[K\n",
            "remote: Compressing objects: 100% (154/154), done.\u001b[K\n",
            "remote: Total 829 (delta 96), reused 130 (delta 44), pack-reused 626\u001b[K\n",
            "Receiving objects: 100% (829/829), 292.05 MiB | 36.58 MiB/s, done.\n",
            "Resolving deltas: 100% (319/319), done.\n",
            "Checking out files: 100% (96/96), done.\n",
            "/content/AI-basketball-analysis-on-google-colab\n"
          ],
          "name": "stdout"
        }
      ]
    },
    {
      "cell_type": "markdown",
      "metadata": {
        "id": "xec4W35f828n",
        "colab_type": "text"
      },
      "source": [
        "## Prerequisites\n",
        "Before running the project, we have to install all the dependencies from requirements.txt"
      ]
    },
    {
      "cell_type": "code",
      "metadata": {
        "id": "u8sfhGUKfdA8",
        "colab_type": "code",
        "colab": {}
      },
      "source": [
        "! pip install -r colab_requirements.txt"
      ],
      "execution_count": null,
      "outputs": []
    },
    {
      "cell_type": "markdown",
      "metadata": {
        "id": "9_dZivHKMpTb",
        "colab_type": "text"
      },
      "source": [
        "You must restart the runtime"
      ]
    },
    {
      "cell_type": "code",
      "metadata": {
        "id": "xz_TJD1MgEWR",
        "colab_type": "code",
        "colab": {
          "base_uri": "https://localhost:8080/",
          "height": 34
        },
        "outputId": "a46fc647-7883-4882-8a87-a5c4eccc763e"
      },
      "source": [
        "%cd AI-basketball-analysis-on-google-colab"
      ],
      "execution_count": null,
      "outputs": [
        {
          "output_type": "stream",
          "text": [
            "/content/AI-basketball-analysis-on-google-colab\n"
          ],
          "name": "stdout"
        }
      ]
    },
    {
      "cell_type": "markdown",
      "metadata": {
        "id": "pXE9Y0u3_CiJ",
        "colab_type": "text"
      },
      "source": [
        "## Hosting"
      ]
    },
    {
      "cell_type": "code",
      "metadata": {
        "id": "NVLun-hws19m",
        "colab_type": "code",
        "colab": {}
      },
      "source": [
        "# Download ngrok for tunneling.\n",
        "!if [ ! -f ./ngrok ]; then \\\n",
        " wget https://bin.equinox.io/c/4VmDzA7iaHb/ngrok-stable-linux-amd64.zip; \\\n",
        " unzip -o ngrok-stable-linux-amd64.zip; \\\n",
        " fi"
      ],
      "execution_count": null,
      "outputs": []
    },
    {
      "cell_type": "code",
      "metadata": {
        "id": "7fLY0iocs3-l",
        "colab_type": "code",
        "colab": {}
      },
      "source": [
        "# Then start a mini web server.\n",
        "port = 5000\n",
        "!pkill ngrok\n",
        "!kill $(ps x | grep -v grep | grep http.server | awk '{print $1}') 2>/dev/null\n",
        "\n",
        "get_ipython().system_raw(\n",
        "    'python app.py && python3 -m http.server {} &'\n",
        "    .format(port)\n",
        ")\n",
        "\n",
        "# And, forward the port using ngrok.\n",
        "get_ipython().system_raw('./ngrok http {} &'.format(port))"
      ],
      "execution_count": null,
      "outputs": []
    },
    {
      "cell_type": "markdown",
      "metadata": {
        "id": "u77y4Iu-tRkp",
        "colab_type": "text"
      },
      "source": [
        "**Port forwarding**\n",
        "\n",
        "Via a `ngrok` tunnel from the local machine to the internet."
      ]
    },
    {
      "cell_type": "code",
      "metadata": {
        "id": "hydof65utmI7",
        "colab_type": "code",
        "colab": {}
      },
      "source": [
        "# Get the public address from localhost:4040 (ngrok's web interface).\n",
        "import time, urllib, json\n",
        "time.sleep(1)  # Give ngrok time to startup.\n",
        "ngrok_data = json.load(\n",
        "    urllib.request.urlopen('http://localhost:4040/api/tunnels'))\n",
        "ngrok_data['tunnels'][0]['public_url']"
      ],
      "execution_count": null,
      "outputs": []
    },
    {
      "cell_type": "code",
      "metadata": {
        "id": "eCOTN5wSvTns",
        "colab_type": "code",
        "colab": {}
      },
      "source": [
        "# You can connect to this external address using your mobile phone!\n",
        "!pip install -q qrcode\n",
        "import qrcode\n",
        "qrcode.make(ngrok_data['tunnels'][0]['public_url'])"
      ],
      "execution_count": null,
      "outputs": []
    },
    {
      "cell_type": "markdown",
      "metadata": {
        "id": "YAVjATxFt9Dy",
        "colab_type": "text"
      },
      "source": [
        "Last, get the project hosted on google colab with a single command.\n",
        "\n",
        "To restart Server/Flask you may click Menu: **Runtime->Restart runtime**\n",
        "\n",
        "**Note:** After restart you can start with [here](#scrollTo=xz_TJD1MgEWR)"
      ]
    },
    {
      "cell_type": "code",
      "metadata": {
        "id": "InlgjFxzcJOK",
        "colab_type": "code",
        "colab": {}
      },
      "source": [
        "# First run this cell then open above link \n",
        "!python app.py"
      ],
      "execution_count": null,
      "outputs": []
    },
    {
      "cell_type": "markdown",
      "metadata": {
        "id": "aKZQoTiQYRMP",
        "colab_type": "text"
      },
      "source": [
        "Or you can run below cell "
      ]
    },
    {
      "cell_type": "code",
      "metadata": {
        "id": "r5Cpveg4VYuy",
        "colab_type": "code",
        "colab": {}
      },
      "source": [
        "import os\n",
        "import sys\n",
        "import cv2\n",
        "\n",
        "from flask import Flask, render_template, Response,  request, session, redirect, url_for, send_from_directory, flash, jsonify, abort\n",
        "from werkzeug.utils import secure_filename\n",
        "from PIL import Image\n",
        "\n",
        "\n",
        "from src.config import shooting_result\n",
        "from src.app_helper import getVideoStream, get_image, detectionAPI\n",
        "\n",
        "app = Flask(__name__)\n",
        "\n",
        "UPLOAD_FOLDER = './static/uploads'\n",
        "app.config['UPLOAD_FOLDER'] = UPLOAD_FOLDER\n",
        "#useless key, in order to use session\n",
        "app.secret_key = \"super secret key\" \n",
        "\n",
        "@app.route(\"/\")\n",
        "def index():\n",
        "    return render_template(\"index.html\")\n",
        "\n",
        "@app.route('/detection_json', methods=['GET', 'POST'])\n",
        "def detection_json():\n",
        "    if request.method == 'POST':\n",
        "        response = []\n",
        "        f = request.files['image']\n",
        "        # create a secure filename\n",
        "        filename = secure_filename(f.filename)\n",
        "        print(\"filename\", filename)\n",
        "        # save file to /static/uploads\n",
        "        filepath = os.path.join(app.config['UPLOAD_FOLDER'], filename)\n",
        "        print(\"filepath\", filepath)\n",
        "        f.save(filepath)\n",
        "        detectionAPI(response, filepath)\n",
        "        print(response)\n",
        "        try:\n",
        "            return jsonify(response), 200\n",
        "        except FileNotFoundError:\n",
        "            abort(404)\n",
        "\n",
        "\n",
        "@app.route('/sample_detection', methods=['GET', 'POST'])\n",
        "def upload_sample_image():\n",
        "    if request.method == 'POST':\n",
        "        response = []\n",
        "        filename = \"sample_image.jpg\"\n",
        "        print(\"filename\", filename)\n",
        "        filepath = \"./static/uploads/sample_image.jpg\"\n",
        "        print(\"filepath\", filepath)\n",
        "        get_image(filepath, filename, response)\n",
        "        return render_template(\"shot_detection.html\", display_detection=filename, fname=filename, response=response)\n",
        "\n",
        "@app.route('/basketball_detection', methods=['GET', 'POST'])\n",
        "def upload_image():\n",
        "    if request.method == 'POST':\n",
        "        response = []\n",
        "        f = request.files['image']\n",
        "        # create a secure filename\n",
        "        filename = secure_filename(f.filename)\n",
        "        print(\"filename\", filename)\n",
        "        # save file to /static/uploads\n",
        "        filepath = os.path.join(app.config['UPLOAD_FOLDER'], filename)\n",
        "        print(\"filepath\", filepath)\n",
        "        f.save(filepath)\n",
        "        get_image(filepath, filename, response)\n",
        "        return render_template(\"shot_detection.html\", display_detection=filename, fname=filename, response=response)\n",
        "\n",
        "@app.route('/sample_analysis', methods=['GET', 'POST'])\n",
        "def upload_video():\n",
        "    global shooting_result\n",
        "    shooting_result['attempts'] = 0\n",
        "    shooting_result['made'] = 0\n",
        "    shooting_result['miss'] = 0\n",
        "    if (os.path.exists(\"./static/detections/trajectory_fitting.jpg\")):\n",
        "        os.remove(\"./static/detections/trajectory_fitting.jpg\")\n",
        "    if request.method == 'POST':\n",
        "        filename = \"sample_video.mp4\"\n",
        "        print(\"filename\", filename)\n",
        "        filepath = \"./static/uploads/sample_video.mp4\"\n",
        "        print(\"filepath\", filepath)\n",
        "        session['video_path'] = filepath\n",
        "        return render_template(\"shooting_analysis.html\")\n",
        "\n",
        "@app.route('/shooting_analysis', methods=['GET', 'POST'])\n",
        "def upload_sample_video():\n",
        "    global shooting_result\n",
        "    shooting_result['attempts'] = 0\n",
        "    shooting_result['made'] = 0\n",
        "    shooting_result['miss'] = 0\n",
        "    if (os.path.exists(\"./static/detections/trajectory_fitting.jpg\")):\n",
        "        os.remove(\"./static/detections/trajectory_fitting.jpg\")\n",
        "    if request.method == 'POST':\n",
        "        f = request.files['video']\n",
        "        # create a secure filename\n",
        "        filename = secure_filename(f.filename)\n",
        "        print(\"filename\", filename)\n",
        "        # save file to /static/uploads\n",
        "        filepath = os.path.join(app.config['UPLOAD_FOLDER'], filename)\n",
        "        print(\"filepath\", filepath)\n",
        "        f.save(filepath)\n",
        "        session['video_path'] = filepath\n",
        "        return render_template(\"shooting_analysis.html\")\n",
        "\n",
        "@app.route('/video_feed')\n",
        "def video_feed():\n",
        "    video_path = session.get('video_path', None)\n",
        "    stream = getVideoStream(video_path)\n",
        "    return Response(stream,\n",
        "                    mimetype='multipart/x-mixed-replace; boundary=frame')\n",
        "\n",
        "@app.route(\"/result\", methods=['GET', 'POST'])\n",
        "def result():\n",
        "    return render_template(\"result.html\", shooting_result=shooting_result)\n",
        "\n",
        "#disable caching\n",
        "@app.after_request\n",
        "def after_request(response):\n",
        "    response.headers[\"Cache-Control\"] = \"no-cache, no-store, must-revalidate, public, max-age=0\"\n",
        "    response.headers[\"Expires\"] = 0\n",
        "    response.headers[\"Pragma\"] = \"no-cache\"\n",
        "    return response\n",
        "\n",
        "if __name__ == '__main__':\n",
        "    app.run(debug=True, use_reloader=True)"
      ],
      "execution_count": null,
      "outputs": []
    }
  ]
}